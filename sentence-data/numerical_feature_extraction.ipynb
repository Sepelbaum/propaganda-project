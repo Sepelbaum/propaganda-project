{
 "cells": [
  {
   "cell_type": "markdown",
   "metadata": {},
   "source": [
    "# Feature Extraction"
   ]
  },
  {
   "cell_type": "code",
   "execution_count": 1,
   "metadata": {},
   "outputs": [],
   "source": [
    "#imports\n",
    "import pandas as pd\n",
    "import numpy as np\n",
    "from gensim.models import Word2Vec\n",
    "from nltk import word_tokenize\n",
    "import spacy \n",
    "import en_core_web_sm\n",
    "from spacy.lang.en.stop_words import STOP_WORDS\n",
    "from spacy.lang.en import English\n",
    "\n",
    "# Create our list of stopwords\n",
    "nlp = spacy.load('en_core_web_sm')\n",
    "stop_words = spacy.lang.en.stop_words.STOP_WORDS\n",
    "\n",
    "# Load English tokenizer, tagger, parser, NER and word vectors\n",
    "parser = English()\n"
   ]
  },
  {
   "cell_type": "code",
   "execution_count": 2,
   "metadata": {},
   "outputs": [],
   "source": [
    "df = pd.read_csv('sentence_classifications_.csv')"
   ]
  },
  {
   "cell_type": "code",
   "execution_count": 3,
   "metadata": {},
   "outputs": [
    {
     "data": {
      "text/html": [
       "<div>\n",
       "<style scoped>\n",
       "    .dataframe tbody tr th:only-of-type {\n",
       "        vertical-align: middle;\n",
       "    }\n",
       "\n",
       "    .dataframe tbody tr th {\n",
       "        vertical-align: top;\n",
       "    }\n",
       "\n",
       "    .dataframe thead th {\n",
       "        text-align: right;\n",
       "    }\n",
       "</style>\n",
       "<table border=\"1\" class=\"dataframe\">\n",
       "  <thead>\n",
       "    <tr style=\"text-align: right;\">\n",
       "      <th></th>\n",
       "      <th>Unnamed: 0</th>\n",
       "      <th>article_id</th>\n",
       "      <th>sentence_char_start</th>\n",
       "      <th>sentence_char_end</th>\n",
       "      <th>propaganda</th>\n",
       "      <th>propaganda_type</th>\n",
       "      <th>text</th>\n",
       "      <th>prop_start_char</th>\n",
       "      <th>prop_end_char</th>\n",
       "      <th>prop_txt_snippet</th>\n",
       "      <th>sent_#</th>\n",
       "    </tr>\n",
       "  </thead>\n",
       "  <tbody>\n",
       "    <tr>\n",
       "      <th>0</th>\n",
       "      <td>0</td>\n",
       "      <td>701225819</td>\n",
       "      <td>0</td>\n",
       "      <td>59</td>\n",
       "      <td>non-propaganda</td>\n",
       "      <td>NaN</td>\n",
       "      <td>South Florida Muslim Leader Sofian Zakkout’s D...</td>\n",
       "      <td>NaN</td>\n",
       "      <td>NaN</td>\n",
       "      <td>NaN</td>\n",
       "      <td>1</td>\n",
       "    </tr>\n",
       "    <tr>\n",
       "      <th>1</th>\n",
       "      <td>1</td>\n",
       "      <td>701225819</td>\n",
       "      <td>60</td>\n",
       "      <td>207</td>\n",
       "      <td>propaganda</td>\n",
       "      <td>Name_Calling,Labeling</td>\n",
       "      <td>David Duke, the white supremacist icon and for...</td>\n",
       "      <td>111.0</td>\n",
       "      <td>143.0</td>\n",
       "      <td>Grand Wizard of the Ku Klux Klan</td>\n",
       "      <td>2</td>\n",
       "    </tr>\n",
       "    <tr>\n",
       "      <th>2</th>\n",
       "      <td>2</td>\n",
       "      <td>701225819</td>\n",
       "      <td>207</td>\n",
       "      <td>382</td>\n",
       "      <td>propaganda</td>\n",
       "      <td>Loaded_Language</td>\n",
       "      <td>However, one individual who represents the Mus...</td>\n",
       "      <td>305.0</td>\n",
       "      <td>313.0</td>\n",
       "      <td>enamored</td>\n",
       "      <td>3</td>\n",
       "    </tr>\n",
       "    <tr>\n",
       "      <th>3</th>\n",
       "      <td>3</td>\n",
       "      <td>701225819</td>\n",
       "      <td>382</td>\n",
       "      <td>525</td>\n",
       "      <td>non-propaganda</td>\n",
       "      <td>NaN</td>\n",
       "      <td>Last month, once again, Zakkout chose to showc...</td>\n",
       "      <td>NaN</td>\n",
       "      <td>NaN</td>\n",
       "      <td>NaN</td>\n",
       "      <td>4</td>\n",
       "    </tr>\n",
       "    <tr>\n",
       "      <th>4</th>\n",
       "      <td>4</td>\n",
       "      <td>701225819</td>\n",
       "      <td>525</td>\n",
       "      <td>595</td>\n",
       "      <td>non-propaganda</td>\n",
       "      <td>NaN</td>\n",
       "      <td>The postings can be rivaled only by Zakkout’s ...</td>\n",
       "      <td>NaN</td>\n",
       "      <td>NaN</td>\n",
       "      <td>NaN</td>\n",
       "      <td>5</td>\n",
       "    </tr>\n",
       "  </tbody>\n",
       "</table>\n",
       "</div>"
      ],
      "text/plain": [
       "   Unnamed: 0  article_id  sentence_char_start  sentence_char_end  \\\n",
       "0           0   701225819                    0                 59   \n",
       "1           1   701225819                   60                207   \n",
       "2           2   701225819                  207                382   \n",
       "3           3   701225819                  382                525   \n",
       "4           4   701225819                  525                595   \n",
       "\n",
       "       propaganda        propaganda_type  \\\n",
       "0  non-propaganda                    NaN   \n",
       "1      propaganda  Name_Calling,Labeling   \n",
       "2      propaganda        Loaded_Language   \n",
       "3  non-propaganda                    NaN   \n",
       "4  non-propaganda                    NaN   \n",
       "\n",
       "                                                text  prop_start_char  \\\n",
       "0  South Florida Muslim Leader Sofian Zakkout’s D...              NaN   \n",
       "1  David Duke, the white supremacist icon and for...            111.0   \n",
       "2  However, one individual who represents the Mus...            305.0   \n",
       "3  Last month, once again, Zakkout chose to showc...              NaN   \n",
       "4  The postings can be rivaled only by Zakkout’s ...              NaN   \n",
       "\n",
       "   prop_end_char                  prop_txt_snippet  sent_#  \n",
       "0            NaN                               NaN       1  \n",
       "1          143.0  Grand Wizard of the Ku Klux Klan       2  \n",
       "2          313.0                          enamored       3  \n",
       "3            NaN                               NaN       4  \n",
       "4            NaN                               NaN       5  "
      ]
     },
     "execution_count": 3,
     "metadata": {},
     "output_type": "execute_result"
    }
   ],
   "source": [
    "df.head()"
   ]
  },
  {
   "cell_type": "code",
   "execution_count": 4,
   "metadata": {},
   "outputs": [
    {
     "name": "stdout",
     "output_type": "stream",
     "text": [
      "<class 'pandas.core.frame.DataFrame'>\n",
      "Int64Index: 15220 entries, 0 to 15240\n",
      "Data columns (total 11 columns):\n",
      "Unnamed: 0             15220 non-null int64\n",
      "article_id             15220 non-null int64\n",
      "sentence_char_start    15220 non-null int64\n",
      "sentence_char_end      15220 non-null int64\n",
      "propaganda             15220 non-null object\n",
      "propaganda_type        3840 non-null object\n",
      "text                   15220 non-null object\n",
      "prop_start_char        3840 non-null float64\n",
      "prop_end_char          3840 non-null float64\n",
      "prop_txt_snippet       3840 non-null object\n",
      "sent_#                 15220 non-null int64\n",
      "dtypes: float64(2), int64(5), object(4)\n",
      "memory usage: 1.4+ MB\n"
     ]
    }
   ],
   "source": [
    "df_1 = df[df['text'].isna()==False]\n",
    "df_1.info()"
   ]
  },
  {
   "cell_type": "code",
   "execution_count": 5,
   "metadata": {},
   "outputs": [],
   "source": [
    "#LOOKING FOR DIFFERENCES IN PROP AND NON PROP FOR CERTAIN WORDS/TOPICS... MIGHT NEED TO CHANGE SOME LABELS"
   ]
  },
  {
   "cell_type": "code",
   "execution_count": 6,
   "metadata": {},
   "outputs": [],
   "source": [
    "non_prop = df_1[(df_1['propaganda']=='non-propaganda')]\n",
    "prop = df_1[(df_1['propaganda']=='propaganda')]\n"
   ]
  },
  {
   "cell_type": "markdown",
   "metadata": {},
   "source": [
    "## Feature Extraction From Sentences"
   ]
  },
  {
   "cell_type": "markdown",
   "metadata": {},
   "source": [
    "### Sentence Sentiment Score"
   ]
  },
  {
   "cell_type": "code",
   "execution_count": 7,
   "metadata": {},
   "outputs": [],
   "source": [
    "from vaderSentiment.vaderSentiment import SentimentIntensityAnalyzer\n",
    "analyser = SentimentIntensityAnalyzer()"
   ]
  },
  {
   "cell_type": "code",
   "execution_count": 8,
   "metadata": {},
   "outputs": [],
   "source": [
    "def sentiment_scores(sentence):\n",
    "    snt = analyser.polarity_scores(sentence)\n",
    "    return snt"
   ]
  },
  {
   "cell_type": "code",
   "execution_count": 9,
   "metadata": {},
   "outputs": [],
   "source": [
    "def sentence_sentiment_score(new_col, transform_col, df):\n",
    "    df[new_col] = df[transform_col].apply(lambda x: sentiment_scores(x)['compound'])\n",
    "    return df"
   ]
  },
  {
   "cell_type": "code",
   "execution_count": 10,
   "metadata": {
    "collapsed": true
   },
   "outputs": [
    {
     "name": "stderr",
     "output_type": "stream",
     "text": [
      "/Users/sashaepelbaum/anaconda3/lib/python3.7/site-packages/ipykernel_launcher.py:2: SettingWithCopyWarning: \n",
      "A value is trying to be set on a copy of a slice from a DataFrame.\n",
      "Try using .loc[row_indexer,col_indexer] = value instead\n",
      "\n",
      "See the caveats in the documentation: http://pandas.pydata.org/pandas-docs/stable/indexing.html#indexing-view-versus-copy\n",
      "  \n"
     ]
    }
   ],
   "source": [
    "#create new column with vader sentiment score for each sentence\n",
    "df_1 = sentence_sentiment_score('sentiment_score','text',df_1)"
   ]
  },
  {
   "cell_type": "code",
   "execution_count": 11,
   "metadata": {
    "collapsed": true
   },
   "outputs": [
    {
     "name": "stderr",
     "output_type": "stream",
     "text": [
      "/Users/sashaepelbaum/anaconda3/lib/python3.7/site-packages/ipykernel_launcher.py:2: SettingWithCopyWarning: \n",
      "A value is trying to be set on a copy of a slice from a DataFrame.\n",
      "Try using .loc[row_indexer,col_indexer] = value instead\n",
      "\n",
      "See the caveats in the documentation: http://pandas.pydata.org/pandas-docs/stable/indexing.html#indexing-view-versus-copy\n",
      "  \n"
     ]
    }
   ],
   "source": [
    "#create new column with absolute value of vader sentiment score for each sentence\n",
    "df_1['abs_sent_score'] = df_1['sentiment_score'].apply(lambda x: abs(x))"
   ]
  },
  {
   "cell_type": "code",
   "execution_count": 12,
   "metadata": {
    "collapsed": true
   },
   "outputs": [
    {
     "data": {
      "text/html": [
       "<div>\n",
       "<style scoped>\n",
       "    .dataframe tbody tr th:only-of-type {\n",
       "        vertical-align: middle;\n",
       "    }\n",
       "\n",
       "    .dataframe tbody tr th {\n",
       "        vertical-align: top;\n",
       "    }\n",
       "\n",
       "    .dataframe thead th {\n",
       "        text-align: right;\n",
       "    }\n",
       "</style>\n",
       "<table border=\"1\" class=\"dataframe\">\n",
       "  <thead>\n",
       "    <tr style=\"text-align: right;\">\n",
       "      <th></th>\n",
       "      <th>Unnamed: 0</th>\n",
       "      <th>article_id</th>\n",
       "      <th>sentence_char_start</th>\n",
       "      <th>sentence_char_end</th>\n",
       "      <th>propaganda</th>\n",
       "      <th>propaganda_type</th>\n",
       "      <th>text</th>\n",
       "      <th>prop_start_char</th>\n",
       "      <th>prop_end_char</th>\n",
       "      <th>prop_txt_snippet</th>\n",
       "      <th>sent_#</th>\n",
       "      <th>sentiment_score</th>\n",
       "      <th>abs_sent_score</th>\n",
       "    </tr>\n",
       "  </thead>\n",
       "  <tbody>\n",
       "    <tr>\n",
       "      <th>0</th>\n",
       "      <td>0</td>\n",
       "      <td>701225819</td>\n",
       "      <td>0</td>\n",
       "      <td>59</td>\n",
       "      <td>non-propaganda</td>\n",
       "      <td>NaN</td>\n",
       "      <td>South Florida Muslim Leader Sofian Zakkout’s D...</td>\n",
       "      <td>NaN</td>\n",
       "      <td>NaN</td>\n",
       "      <td>NaN</td>\n",
       "      <td>1</td>\n",
       "      <td>0.0000</td>\n",
       "      <td>0.0000</td>\n",
       "    </tr>\n",
       "    <tr>\n",
       "      <th>1</th>\n",
       "      <td>1</td>\n",
       "      <td>701225819</td>\n",
       "      <td>60</td>\n",
       "      <td>207</td>\n",
       "      <td>propaganda</td>\n",
       "      <td>Name_Calling,Labeling</td>\n",
       "      <td>David Duke, the white supremacist icon and for...</td>\n",
       "      <td>111.0</td>\n",
       "      <td>143.0</td>\n",
       "      <td>Grand Wizard of the Ku Klux Klan</td>\n",
       "      <td>2</td>\n",
       "      <td>0.5423</td>\n",
       "      <td>0.5423</td>\n",
       "    </tr>\n",
       "    <tr>\n",
       "      <th>2</th>\n",
       "      <td>2</td>\n",
       "      <td>701225819</td>\n",
       "      <td>207</td>\n",
       "      <td>382</td>\n",
       "      <td>propaganda</td>\n",
       "      <td>Loaded_Language</td>\n",
       "      <td>However, one individual who represents the Mus...</td>\n",
       "      <td>305.0</td>\n",
       "      <td>313.0</td>\n",
       "      <td>enamored</td>\n",
       "      <td>3</td>\n",
       "      <td>0.3612</td>\n",
       "      <td>0.3612</td>\n",
       "    </tr>\n",
       "    <tr>\n",
       "      <th>3</th>\n",
       "      <td>3</td>\n",
       "      <td>701225819</td>\n",
       "      <td>382</td>\n",
       "      <td>525</td>\n",
       "      <td>non-propaganda</td>\n",
       "      <td>NaN</td>\n",
       "      <td>Last month, once again, Zakkout chose to showc...</td>\n",
       "      <td>NaN</td>\n",
       "      <td>NaN</td>\n",
       "      <td>NaN</td>\n",
       "      <td>4</td>\n",
       "      <td>0.0000</td>\n",
       "      <td>0.0000</td>\n",
       "    </tr>\n",
       "    <tr>\n",
       "      <th>4</th>\n",
       "      <td>4</td>\n",
       "      <td>701225819</td>\n",
       "      <td>525</td>\n",
       "      <td>595</td>\n",
       "      <td>non-propaganda</td>\n",
       "      <td>NaN</td>\n",
       "      <td>The postings can be rivaled only by Zakkout’s ...</td>\n",
       "      <td>NaN</td>\n",
       "      <td>NaN</td>\n",
       "      <td>NaN</td>\n",
       "      <td>5</td>\n",
       "      <td>0.0000</td>\n",
       "      <td>0.0000</td>\n",
       "    </tr>\n",
       "  </tbody>\n",
       "</table>\n",
       "</div>"
      ],
      "text/plain": [
       "   Unnamed: 0  article_id  sentence_char_start  sentence_char_end  \\\n",
       "0           0   701225819                    0                 59   \n",
       "1           1   701225819                   60                207   \n",
       "2           2   701225819                  207                382   \n",
       "3           3   701225819                  382                525   \n",
       "4           4   701225819                  525                595   \n",
       "\n",
       "       propaganda        propaganda_type  \\\n",
       "0  non-propaganda                    NaN   \n",
       "1      propaganda  Name_Calling,Labeling   \n",
       "2      propaganda        Loaded_Language   \n",
       "3  non-propaganda                    NaN   \n",
       "4  non-propaganda                    NaN   \n",
       "\n",
       "                                                text  prop_start_char  \\\n",
       "0  South Florida Muslim Leader Sofian Zakkout’s D...              NaN   \n",
       "1  David Duke, the white supremacist icon and for...            111.0   \n",
       "2  However, one individual who represents the Mus...            305.0   \n",
       "3  Last month, once again, Zakkout chose to showc...              NaN   \n",
       "4  The postings can be rivaled only by Zakkout’s ...              NaN   \n",
       "\n",
       "   prop_end_char                  prop_txt_snippet  sent_#  sentiment_score  \\\n",
       "0            NaN                               NaN       1           0.0000   \n",
       "1          143.0  Grand Wizard of the Ku Klux Klan       2           0.5423   \n",
       "2          313.0                          enamored       3           0.3612   \n",
       "3            NaN                               NaN       4           0.0000   \n",
       "4            NaN                               NaN       5           0.0000   \n",
       "\n",
       "   abs_sent_score  \n",
       "0          0.0000  \n",
       "1          0.5423  \n",
       "2          0.3612  \n",
       "3          0.0000  \n",
       "4          0.0000  "
      ]
     },
     "execution_count": 12,
     "metadata": {},
     "output_type": "execute_result"
    }
   ],
   "source": [
    "df_1.head()"
   ]
  },
  {
   "cell_type": "markdown",
   "metadata": {},
   "source": [
    "### Sentence Punctuation Count"
   ]
  },
  {
   "cell_type": "code",
   "execution_count": 13,
   "metadata": {},
   "outputs": [],
   "source": [
    "import string  \n",
    "punctuation = string.punctuation"
   ]
  },
  {
   "cell_type": "code",
   "execution_count": 14,
   "metadata": {},
   "outputs": [
    {
     "data": {
      "text/plain": [
       "'!\"#$%&\\'()*+,-./:;<=>?@[\\\\]^_`{|}~”'"
      ]
     },
     "execution_count": 14,
     "metadata": {},
     "output_type": "execute_result"
    }
   ],
   "source": [
    "punctuation = punctuation + '”'\n",
    "punctuation"
   ]
  },
  {
   "cell_type": "code",
   "execution_count": 15,
   "metadata": {},
   "outputs": [],
   "source": [
    "def count_punct(text):\n",
    "    count = 0\n",
    "    for char in text:\n",
    "        if char in punctuation:\n",
    "            count +=1\n",
    "    return count\n",
    "\n",
    "def count_punct_col(df,transform_col,new_col):\n",
    "    df[new_col]=df[transform_col].apply(lambda x: count_punct(x))\n",
    "    return df\n",
    "    "
   ]
  },
  {
   "cell_type": "code",
   "execution_count": 16,
   "metadata": {},
   "outputs": [
    {
     "data": {
      "text/plain": [
       "10"
      ]
     },
     "execution_count": 16,
     "metadata": {},
     "output_type": "execute_result"
    }
   ],
   "source": [
    "test_string = 'He said: \"HELLO!\"... but that is it... no more'\n",
    "count_punct(test_string)"
   ]
  },
  {
   "cell_type": "code",
   "execution_count": 17,
   "metadata": {
    "collapsed": true
   },
   "outputs": [
    {
     "name": "stderr",
     "output_type": "stream",
     "text": [
      "/Users/sashaepelbaum/anaconda3/lib/python3.7/site-packages/ipykernel_launcher.py:9: SettingWithCopyWarning: \n",
      "A value is trying to be set on a copy of a slice from a DataFrame.\n",
      "Try using .loc[row_indexer,col_indexer] = value instead\n",
      "\n",
      "See the caveats in the documentation: http://pandas.pydata.org/pandas-docs/stable/indexing.html#indexing-view-versus-copy\n",
      "  if __name__ == '__main__':\n"
     ]
    }
   ],
   "source": [
    "df_1 = count_punct_col(df_1,'text','punct_count')"
   ]
  },
  {
   "cell_type": "code",
   "execution_count": 18,
   "metadata": {
    "collapsed": true
   },
   "outputs": [
    {
     "data": {
      "text/html": [
       "<div>\n",
       "<style scoped>\n",
       "    .dataframe tbody tr th:only-of-type {\n",
       "        vertical-align: middle;\n",
       "    }\n",
       "\n",
       "    .dataframe tbody tr th {\n",
       "        vertical-align: top;\n",
       "    }\n",
       "\n",
       "    .dataframe thead th {\n",
       "        text-align: right;\n",
       "    }\n",
       "</style>\n",
       "<table border=\"1\" class=\"dataframe\">\n",
       "  <thead>\n",
       "    <tr style=\"text-align: right;\">\n",
       "      <th></th>\n",
       "      <th>Unnamed: 0</th>\n",
       "      <th>article_id</th>\n",
       "      <th>sentence_char_start</th>\n",
       "      <th>sentence_char_end</th>\n",
       "      <th>propaganda</th>\n",
       "      <th>propaganda_type</th>\n",
       "      <th>text</th>\n",
       "      <th>prop_start_char</th>\n",
       "      <th>prop_end_char</th>\n",
       "      <th>prop_txt_snippet</th>\n",
       "      <th>sent_#</th>\n",
       "      <th>sentiment_score</th>\n",
       "      <th>abs_sent_score</th>\n",
       "      <th>punct_count</th>\n",
       "    </tr>\n",
       "  </thead>\n",
       "  <tbody>\n",
       "    <tr>\n",
       "      <th>0</th>\n",
       "      <td>0</td>\n",
       "      <td>701225819</td>\n",
       "      <td>0</td>\n",
       "      <td>59</td>\n",
       "      <td>non-propaganda</td>\n",
       "      <td>NaN</td>\n",
       "      <td>South Florida Muslim Leader Sofian Zakkout’s D...</td>\n",
       "      <td>NaN</td>\n",
       "      <td>NaN</td>\n",
       "      <td>NaN</td>\n",
       "      <td>1</td>\n",
       "      <td>0.0000</td>\n",
       "      <td>0.0000</td>\n",
       "      <td>0</td>\n",
       "    </tr>\n",
       "    <tr>\n",
       "      <th>1</th>\n",
       "      <td>1</td>\n",
       "      <td>701225819</td>\n",
       "      <td>60</td>\n",
       "      <td>207</td>\n",
       "      <td>propaganda</td>\n",
       "      <td>Name_Calling,Labeling</td>\n",
       "      <td>David Duke, the white supremacist icon and for...</td>\n",
       "      <td>111.0</td>\n",
       "      <td>143.0</td>\n",
       "      <td>Grand Wizard of the Ku Klux Klan</td>\n",
       "      <td>2</td>\n",
       "      <td>0.5423</td>\n",
       "      <td>0.5423</td>\n",
       "      <td>4</td>\n",
       "    </tr>\n",
       "    <tr>\n",
       "      <th>2</th>\n",
       "      <td>2</td>\n",
       "      <td>701225819</td>\n",
       "      <td>207</td>\n",
       "      <td>382</td>\n",
       "      <td>propaganda</td>\n",
       "      <td>Loaded_Language</td>\n",
       "      <td>However, one individual who represents the Mus...</td>\n",
       "      <td>305.0</td>\n",
       "      <td>313.0</td>\n",
       "      <td>enamored</td>\n",
       "      <td>3</td>\n",
       "      <td>0.3612</td>\n",
       "      <td>0.3612</td>\n",
       "      <td>4</td>\n",
       "    </tr>\n",
       "    <tr>\n",
       "      <th>3</th>\n",
       "      <td>3</td>\n",
       "      <td>701225819</td>\n",
       "      <td>382</td>\n",
       "      <td>525</td>\n",
       "      <td>non-propaganda</td>\n",
       "      <td>NaN</td>\n",
       "      <td>Last month, once again, Zakkout chose to showc...</td>\n",
       "      <td>NaN</td>\n",
       "      <td>NaN</td>\n",
       "      <td>NaN</td>\n",
       "      <td>4</td>\n",
       "      <td>0.0000</td>\n",
       "      <td>0.0000</td>\n",
       "      <td>5</td>\n",
       "    </tr>\n",
       "    <tr>\n",
       "      <th>4</th>\n",
       "      <td>4</td>\n",
       "      <td>701225819</td>\n",
       "      <td>525</td>\n",
       "      <td>595</td>\n",
       "      <td>non-propaganda</td>\n",
       "      <td>NaN</td>\n",
       "      <td>The postings can be rivaled only by Zakkout’s ...</td>\n",
       "      <td>NaN</td>\n",
       "      <td>NaN</td>\n",
       "      <td>NaN</td>\n",
       "      <td>5</td>\n",
       "      <td>0.0000</td>\n",
       "      <td>0.0000</td>\n",
       "      <td>1</td>\n",
       "    </tr>\n",
       "  </tbody>\n",
       "</table>\n",
       "</div>"
      ],
      "text/plain": [
       "   Unnamed: 0  article_id  sentence_char_start  sentence_char_end  \\\n",
       "0           0   701225819                    0                 59   \n",
       "1           1   701225819                   60                207   \n",
       "2           2   701225819                  207                382   \n",
       "3           3   701225819                  382                525   \n",
       "4           4   701225819                  525                595   \n",
       "\n",
       "       propaganda        propaganda_type  \\\n",
       "0  non-propaganda                    NaN   \n",
       "1      propaganda  Name_Calling,Labeling   \n",
       "2      propaganda        Loaded_Language   \n",
       "3  non-propaganda                    NaN   \n",
       "4  non-propaganda                    NaN   \n",
       "\n",
       "                                                text  prop_start_char  \\\n",
       "0  South Florida Muslim Leader Sofian Zakkout’s D...              NaN   \n",
       "1  David Duke, the white supremacist icon and for...            111.0   \n",
       "2  However, one individual who represents the Mus...            305.0   \n",
       "3  Last month, once again, Zakkout chose to showc...              NaN   \n",
       "4  The postings can be rivaled only by Zakkout’s ...              NaN   \n",
       "\n",
       "   prop_end_char                  prop_txt_snippet  sent_#  sentiment_score  \\\n",
       "0            NaN                               NaN       1           0.0000   \n",
       "1          143.0  Grand Wizard of the Ku Klux Klan       2           0.5423   \n",
       "2          313.0                          enamored       3           0.3612   \n",
       "3            NaN                               NaN       4           0.0000   \n",
       "4            NaN                               NaN       5           0.0000   \n",
       "\n",
       "   abs_sent_score  punct_count  \n",
       "0          0.0000            0  \n",
       "1          0.5423            4  \n",
       "2          0.3612            4  \n",
       "3          0.0000            5  \n",
       "4          0.0000            1  "
      ]
     },
     "execution_count": 18,
     "metadata": {},
     "output_type": "execute_result"
    }
   ],
   "source": [
    "df_1.head()"
   ]
  },
  {
   "cell_type": "markdown",
   "metadata": {},
   "source": [
    "### Simple Tokenizer for Word Count, Word Length, & POS counter"
   ]
  },
  {
   "cell_type": "code",
   "execution_count": 19,
   "metadata": {},
   "outputs": [],
   "source": [
    "# Create our list of stopwords\n",
    "nlp = spacy.load('en_core_web_sm')\n",
    "stop_words = spacy.lang.en.stop_words.STOP_WORDS\n",
    "\n",
    "# Load English tokenizer, tagger, parser, NER and word vectors\n",
    "parser = English()"
   ]
  },
  {
   "cell_type": "code",
   "execution_count": 20,
   "metadata": {},
   "outputs": [
    {
     "data": {
      "text/plain": [
       "dict_keys(['I’m', 'won’t', '’s', '’ll', '’ve ', 'n’t', '’re', '’d', 'y’all', \"I'm\", \"won't\", \"'s\", \"'ll\", \"'ve \", \"n't\", \"'re\", \"'d\", \"y'all\"])"
      ]
     },
     "execution_count": 20,
     "metadata": {},
     "output_type": "execute_result"
    }
   ],
   "source": [
    "contr_dict={\"I’m\": \"I am\",\n",
    "            \"won’t\": \"will not\",\n",
    "            \"’s\" : \"\", \n",
    "            \"’ll\":\"will\",\n",
    "            \"’ve \":\"have \",\n",
    "            \"n’t\":\"not\",\n",
    "            \"’re\": \"are\",\n",
    "            \"’d\": \"would\",\n",
    "            \"y’all\": \"all of you\",\n",
    "            \"I'm\": \"I am\",\n",
    "            \"won't\": \"will not\",\n",
    "            \"'s\" : \"\", \n",
    "            \"'ll\":\"will\",\n",
    "            \"'ve \":\"have \",\n",
    "            \"n't\":\"not\",\n",
    "            \"'re\": \"are\",\n",
    "            \"'d\": \"would\",\n",
    "            \"y'all\": \"all of you\"}\n",
    "contr_dict.keys()\n"
   ]
  },
  {
   "cell_type": "code",
   "execution_count": 21,
   "metadata": {},
   "outputs": [],
   "source": [
    "def replace_contractions(sentence, contr_dict=contr_dict):\n",
    "    for contr in contr_dict.keys():\n",
    "        if contr in sentence:\n",
    "            sentence = sentence.replace(contr,contr_dict[contr])\n",
    "    return sentence"
   ]
  },
  {
   "cell_type": "code",
   "execution_count": 22,
   "metadata": {},
   "outputs": [],
   "source": [
    "sent_1 = '''After a period of review, the professor changed Arnold's grade to a B+, according to BuzzFeed News.'''"
   ]
  },
  {
   "cell_type": "code",
   "execution_count": 23,
   "metadata": {},
   "outputs": [
    {
     "data": {
      "text/plain": [
       "'After a period of review, the professor changed Arnold grade to a B+, according to BuzzFeed News.'"
      ]
     },
     "execution_count": 23,
     "metadata": {},
     "output_type": "execute_result"
    }
   ],
   "source": [
    "replace_contractions(sent_1,contr_dict)"
   ]
  },
  {
   "cell_type": "code",
   "execution_count": 24,
   "metadata": {},
   "outputs": [],
   "source": [
    "def simple_tokenizer(text):\n",
    "    text = replace_contractions(text,contr_dict)\n",
    "    mytokens = nlp(text)\n",
    "    mytokens = [ word.lemma_.lower().strip() if word.lemma_ != \"-PRON-\" else word.lower_ for word in mytokens ]\n",
    "    mytokens = [word for word in mytokens if word not in punctuation]\n",
    "    return mytokens"
   ]
  },
  {
   "cell_type": "code",
   "execution_count": 25,
   "metadata": {},
   "outputs": [],
   "source": [
    "test_tokens = simple_tokenizer('''South Florida Muslim Leader Sofian Zakkout’s David Duke Day''')"
   ]
  },
  {
   "cell_type": "code",
   "execution_count": 26,
   "metadata": {},
   "outputs": [
    {
     "data": {
      "text/plain": [
       "['south',\n",
       " 'florida',\n",
       " 'muslim',\n",
       " 'leader',\n",
       " 'sofian',\n",
       " 'zakkout',\n",
       " 'david',\n",
       " 'duke',\n",
       " 'day']"
      ]
     },
     "execution_count": 26,
     "metadata": {},
     "output_type": "execute_result"
    }
   ],
   "source": [
    "test_tokens"
   ]
  },
  {
   "cell_type": "markdown",
   "metadata": {},
   "source": [
    "### Sentence Word Count"
   ]
  },
  {
   "cell_type": "code",
   "execution_count": 27,
   "metadata": {},
   "outputs": [],
   "source": [
    "def word_count(tokens):\n",
    "    return len(tokens)"
   ]
  },
  {
   "cell_type": "code",
   "execution_count": 28,
   "metadata": {},
   "outputs": [
    {
     "data": {
      "text/plain": [
       "9"
      ]
     },
     "execution_count": 28,
     "metadata": {},
     "output_type": "execute_result"
    }
   ],
   "source": [
    "word_count(test_tokens)"
   ]
  },
  {
   "cell_type": "code",
   "execution_count": 29,
   "metadata": {},
   "outputs": [],
   "source": [
    "def word_count_col(df, new_col, transform_col):\n",
    "    df[new_col] = df[transform_col].apply(lambda x: word_count(simple_tokenizer(x)))\n",
    "    return df\n"
   ]
  },
  {
   "cell_type": "code",
   "execution_count": 30,
   "metadata": {},
   "outputs": [
    {
     "name": "stderr",
     "output_type": "stream",
     "text": [
      "/Users/sashaepelbaum/anaconda3/lib/python3.7/site-packages/ipykernel_launcher.py:2: SettingWithCopyWarning: \n",
      "A value is trying to be set on a copy of a slice from a DataFrame.\n",
      "Try using .loc[row_indexer,col_indexer] = value instead\n",
      "\n",
      "See the caveats in the documentation: http://pandas.pydata.org/pandas-docs/stable/indexing.html#indexing-view-versus-copy\n",
      "  \n"
     ]
    }
   ],
   "source": [
    "df_1 = word_count_col(df_1,'word_count','text')"
   ]
  },
  {
   "cell_type": "code",
   "execution_count": 31,
   "metadata": {},
   "outputs": [
    {
     "data": {
      "text/html": [
       "<div>\n",
       "<style scoped>\n",
       "    .dataframe tbody tr th:only-of-type {\n",
       "        vertical-align: middle;\n",
       "    }\n",
       "\n",
       "    .dataframe tbody tr th {\n",
       "        vertical-align: top;\n",
       "    }\n",
       "\n",
       "    .dataframe thead th {\n",
       "        text-align: right;\n",
       "    }\n",
       "</style>\n",
       "<table border=\"1\" class=\"dataframe\">\n",
       "  <thead>\n",
       "    <tr style=\"text-align: right;\">\n",
       "      <th></th>\n",
       "      <th>Unnamed: 0</th>\n",
       "      <th>article_id</th>\n",
       "      <th>sentence_char_start</th>\n",
       "      <th>sentence_char_end</th>\n",
       "      <th>propaganda</th>\n",
       "      <th>propaganda_type</th>\n",
       "      <th>text</th>\n",
       "      <th>prop_start_char</th>\n",
       "      <th>prop_end_char</th>\n",
       "      <th>prop_txt_snippet</th>\n",
       "      <th>sent_#</th>\n",
       "      <th>sentiment_score</th>\n",
       "      <th>abs_sent_score</th>\n",
       "      <th>punct_count</th>\n",
       "      <th>word_count</th>\n",
       "    </tr>\n",
       "  </thead>\n",
       "  <tbody>\n",
       "    <tr>\n",
       "      <th>0</th>\n",
       "      <td>0</td>\n",
       "      <td>701225819</td>\n",
       "      <td>0</td>\n",
       "      <td>59</td>\n",
       "      <td>non-propaganda</td>\n",
       "      <td>NaN</td>\n",
       "      <td>South Florida Muslim Leader Sofian Zakkout’s D...</td>\n",
       "      <td>NaN</td>\n",
       "      <td>NaN</td>\n",
       "      <td>NaN</td>\n",
       "      <td>1</td>\n",
       "      <td>0.0000</td>\n",
       "      <td>0.0000</td>\n",
       "      <td>0</td>\n",
       "      <td>9</td>\n",
       "    </tr>\n",
       "    <tr>\n",
       "      <th>1</th>\n",
       "      <td>1</td>\n",
       "      <td>701225819</td>\n",
       "      <td>60</td>\n",
       "      <td>207</td>\n",
       "      <td>propaganda</td>\n",
       "      <td>Name_Calling,Labeling</td>\n",
       "      <td>David Duke, the white supremacist icon and for...</td>\n",
       "      <td>111.0</td>\n",
       "      <td>143.0</td>\n",
       "      <td>Grand Wizard of the Ku Klux Klan</td>\n",
       "      <td>2</td>\n",
       "      <td>0.5423</td>\n",
       "      <td>0.5423</td>\n",
       "      <td>4</td>\n",
       "      <td>26</td>\n",
       "    </tr>\n",
       "    <tr>\n",
       "      <th>2</th>\n",
       "      <td>2</td>\n",
       "      <td>701225819</td>\n",
       "      <td>207</td>\n",
       "      <td>382</td>\n",
       "      <td>propaganda</td>\n",
       "      <td>Loaded_Language</td>\n",
       "      <td>However, one individual who represents the Mus...</td>\n",
       "      <td>305.0</td>\n",
       "      <td>313.0</td>\n",
       "      <td>enamored</td>\n",
       "      <td>3</td>\n",
       "      <td>0.3612</td>\n",
       "      <td>0.3612</td>\n",
       "      <td>4</td>\n",
       "      <td>27</td>\n",
       "    </tr>\n",
       "    <tr>\n",
       "      <th>3</th>\n",
       "      <td>3</td>\n",
       "      <td>701225819</td>\n",
       "      <td>382</td>\n",
       "      <td>525</td>\n",
       "      <td>non-propaganda</td>\n",
       "      <td>NaN</td>\n",
       "      <td>Last month, once again, Zakkout chose to showc...</td>\n",
       "      <td>NaN</td>\n",
       "      <td>NaN</td>\n",
       "      <td>NaN</td>\n",
       "      <td>4</td>\n",
       "      <td>0.0000</td>\n",
       "      <td>0.0000</td>\n",
       "      <td>5</td>\n",
       "      <td>22</td>\n",
       "    </tr>\n",
       "    <tr>\n",
       "      <th>4</th>\n",
       "      <td>4</td>\n",
       "      <td>701225819</td>\n",
       "      <td>525</td>\n",
       "      <td>595</td>\n",
       "      <td>non-propaganda</td>\n",
       "      <td>NaN</td>\n",
       "      <td>The postings can be rivaled only by Zakkout’s ...</td>\n",
       "      <td>NaN</td>\n",
       "      <td>NaN</td>\n",
       "      <td>NaN</td>\n",
       "      <td>5</td>\n",
       "      <td>0.0000</td>\n",
       "      <td>0.0000</td>\n",
       "      <td>1</td>\n",
       "      <td>11</td>\n",
       "    </tr>\n",
       "  </tbody>\n",
       "</table>\n",
       "</div>"
      ],
      "text/plain": [
       "   Unnamed: 0  article_id  sentence_char_start  sentence_char_end  \\\n",
       "0           0   701225819                    0                 59   \n",
       "1           1   701225819                   60                207   \n",
       "2           2   701225819                  207                382   \n",
       "3           3   701225819                  382                525   \n",
       "4           4   701225819                  525                595   \n",
       "\n",
       "       propaganda        propaganda_type  \\\n",
       "0  non-propaganda                    NaN   \n",
       "1      propaganda  Name_Calling,Labeling   \n",
       "2      propaganda        Loaded_Language   \n",
       "3  non-propaganda                    NaN   \n",
       "4  non-propaganda                    NaN   \n",
       "\n",
       "                                                text  prop_start_char  \\\n",
       "0  South Florida Muslim Leader Sofian Zakkout’s D...              NaN   \n",
       "1  David Duke, the white supremacist icon and for...            111.0   \n",
       "2  However, one individual who represents the Mus...            305.0   \n",
       "3  Last month, once again, Zakkout chose to showc...              NaN   \n",
       "4  The postings can be rivaled only by Zakkout’s ...              NaN   \n",
       "\n",
       "   prop_end_char                  prop_txt_snippet  sent_#  sentiment_score  \\\n",
       "0            NaN                               NaN       1           0.0000   \n",
       "1          143.0  Grand Wizard of the Ku Klux Klan       2           0.5423   \n",
       "2          313.0                          enamored       3           0.3612   \n",
       "3            NaN                               NaN       4           0.0000   \n",
       "4            NaN                               NaN       5           0.0000   \n",
       "\n",
       "   abs_sent_score  punct_count  word_count  \n",
       "0          0.0000            0           9  \n",
       "1          0.5423            4          26  \n",
       "2          0.3612            4          27  \n",
       "3          0.0000            5          22  \n",
       "4          0.0000            1          11  "
      ]
     },
     "execution_count": 31,
     "metadata": {},
     "output_type": "execute_result"
    }
   ],
   "source": [
    "df_1.head()"
   ]
  },
  {
   "cell_type": "markdown",
   "metadata": {},
   "source": [
    "### Part of Speech Counter"
   ]
  },
  {
   "cell_type": "markdown",
   "metadata": {},
   "source": [
    "### POS: Proportion of Adj, Nouns, Verbs, Adverbs"
   ]
  },
  {
   "cell_type": "code",
   "execution_count": 32,
   "metadata": {},
   "outputs": [],
   "source": [
    "def adj_counter(text):\n",
    "    text = replace_contractions(text,contr_dict)\n",
    "    mytokens = nlp(text)\n",
    "    adjs = [word for word in mytokens if word.pos_ == \"ADJ\"]\n",
    "    return (len(adjs))"
   ]
  },
  {
   "cell_type": "code",
   "execution_count": 33,
   "metadata": {},
   "outputs": [],
   "source": [
    "def verb_counter(text):\n",
    "    text = replace_contractions(text,contr_dict)\n",
    "    mytokens = nlp(text)\n",
    "    verbs = [word for word in mytokens if word.pos_ == \"VERB\"]\n",
    "    return (len(verbs))"
   ]
  },
  {
   "cell_type": "code",
   "execution_count": 34,
   "metadata": {},
   "outputs": [],
   "source": [
    "def adv_counter(text):\n",
    "    text = replace_contractions(text,contr_dict)\n",
    "    mytokens = nlp(text)\n",
    "    advs = [word for word in mytokens if word.pos_ == \"ADV\"]\n",
    "    return (len(advs))"
   ]
  },
  {
   "cell_type": "code",
   "execution_count": 35,
   "metadata": {},
   "outputs": [],
   "source": [
    "def noun_counter(text):\n",
    "    text = replace_contractions(text,contr_dict)\n",
    "    mytokens = nlp(text)\n",
    "    nouns = [word for word in mytokens if word.pos_ == \"NOUN\"]\n",
    "    return (len(nouns))"
   ]
  },
  {
   "cell_type": "code",
   "execution_count": null,
   "metadata": {},
   "outputs": [],
   "source": []
  },
  {
   "cell_type": "code",
   "execution_count": 36,
   "metadata": {
    "scrolled": true
   },
   "outputs": [
    {
     "name": "stdout",
     "output_type": "stream",
     "text": [
      "1 0 1 1\n"
     ]
    }
   ],
   "source": [
    "a = adj_counter('She is a very tall person')\n",
    "v = verb_counter('She is a very tall person')\n",
    "d = adv_counter('She is a very tall person')\n",
    "n = noun_counter('She is a very tall person')\n",
    "print(a,v,d,n)"
   ]
  },
  {
   "cell_type": "code",
   "execution_count": 37,
   "metadata": {},
   "outputs": [
    {
     "name": "stderr",
     "output_type": "stream",
     "text": [
      "/Users/sashaepelbaum/anaconda3/lib/python3.7/site-packages/ipykernel_launcher.py:1: SettingWithCopyWarning: \n",
      "A value is trying to be set on a copy of a slice from a DataFrame.\n",
      "Try using .loc[row_indexer,col_indexer] = value instead\n",
      "\n",
      "See the caveats in the documentation: http://pandas.pydata.org/pandas-docs/stable/indexing.html#indexing-view-versus-copy\n",
      "  \"\"\"Entry point for launching an IPython kernel.\n",
      "/Users/sashaepelbaum/anaconda3/lib/python3.7/site-packages/ipykernel_launcher.py:2: SettingWithCopyWarning: \n",
      "A value is trying to be set on a copy of a slice from a DataFrame.\n",
      "Try using .loc[row_indexer,col_indexer] = value instead\n",
      "\n",
      "See the caveats in the documentation: http://pandas.pydata.org/pandas-docs/stable/indexing.html#indexing-view-versus-copy\n",
      "  \n",
      "/Users/sashaepelbaum/anaconda3/lib/python3.7/site-packages/ipykernel_launcher.py:3: SettingWithCopyWarning: \n",
      "A value is trying to be set on a copy of a slice from a DataFrame.\n",
      "Try using .loc[row_indexer,col_indexer] = value instead\n",
      "\n",
      "See the caveats in the documentation: http://pandas.pydata.org/pandas-docs/stable/indexing.html#indexing-view-versus-copy\n",
      "  This is separate from the ipykernel package so we can avoid doing imports until\n",
      "/Users/sashaepelbaum/anaconda3/lib/python3.7/site-packages/ipykernel_launcher.py:4: SettingWithCopyWarning: \n",
      "A value is trying to be set on a copy of a slice from a DataFrame.\n",
      "Try using .loc[row_indexer,col_indexer] = value instead\n",
      "\n",
      "See the caveats in the documentation: http://pandas.pydata.org/pandas-docs/stable/indexing.html#indexing-view-versus-copy\n",
      "  after removing the cwd from sys.path.\n"
     ]
    }
   ],
   "source": [
    "df_1['%adj'] = df_1.text.apply(lambda x: adj_counter(x)/word_count(x))\n",
    "df_1['%verb'] = df_1.text.apply(lambda x: verb_counter(x)/word_count(x))\n",
    "df_1['%adv'] = df_1.text.apply(lambda x: adv_counter(x)/word_count(x))\n",
    "df_1['%noun'] = df_1.text.apply(lambda x: noun_counter(x)/word_count(x))"
   ]
  },
  {
   "cell_type": "markdown",
   "metadata": {},
   "source": [
    "### Sentence Avg. Word Length"
   ]
  },
  {
   "cell_type": "code",
   "execution_count": 38,
   "metadata": {},
   "outputs": [],
   "source": [
    "def avg_word_length(tokens):\n",
    "    word_lengths = [len(token) for token in tokens]\n",
    "    return np.mean(word_lengths)"
   ]
  },
  {
   "cell_type": "code",
   "execution_count": 39,
   "metadata": {},
   "outputs": [
    {
     "data": {
      "text/plain": [
       "5.444444444444445"
      ]
     },
     "execution_count": 39,
     "metadata": {},
     "output_type": "execute_result"
    }
   ],
   "source": [
    "avg_word_length(test_tokens)"
   ]
  },
  {
   "cell_type": "code",
   "execution_count": 40,
   "metadata": {},
   "outputs": [],
   "source": [
    "def avg_word_length_col(df, new_col, transform_col):\n",
    "    df[new_col] = df[transform_col].apply(lambda x: avg_word_length(simple_tokenizer(x)))\n",
    "    return df"
   ]
  },
  {
   "cell_type": "code",
   "execution_count": 41,
   "metadata": {},
   "outputs": [
    {
     "name": "stderr",
     "output_type": "stream",
     "text": [
      "/Users/sashaepelbaum/anaconda3/lib/python3.7/site-packages/numpy/core/fromnumeric.py:3118: RuntimeWarning: Mean of empty slice.\n",
      "  out=out, **kwargs)\n",
      "/Users/sashaepelbaum/anaconda3/lib/python3.7/site-packages/ipykernel_launcher.py:2: SettingWithCopyWarning: \n",
      "A value is trying to be set on a copy of a slice from a DataFrame.\n",
      "Try using .loc[row_indexer,col_indexer] = value instead\n",
      "\n",
      "See the caveats in the documentation: http://pandas.pydata.org/pandas-docs/stable/indexing.html#indexing-view-versus-copy\n",
      "  \n"
     ]
    }
   ],
   "source": [
    "df_1 = avg_word_length_col(df_1, 'avg_word_length', 'text')"
   ]
  },
  {
   "cell_type": "code",
   "execution_count": 43,
   "metadata": {
    "scrolled": false
   },
   "outputs": [
    {
     "data": {
      "text/plain": [
       "Unnamed: 0                                                             1\n",
       "article_id                                                     701225819\n",
       "sentence_char_start                                                   60\n",
       "sentence_char_end                                                    207\n",
       "propaganda                                                    propaganda\n",
       "propaganda_type                                    Name_Calling,Labeling\n",
       "text                   David Duke, the white supremacist icon and for...\n",
       "prop_start_char                                                      111\n",
       "prop_end_char                                                        143\n",
       "prop_txt_snippet                        Grand Wizard of the Ku Klux Klan\n",
       "sent_#                                                                 2\n",
       "sentiment_score                                                   0.5423\n",
       "abs_sent_score                                                    0.5423\n",
       "punct_count                                                            4\n",
       "word_count                                                            26\n",
       "%adj                                                           0.0205479\n",
       "%verb                                                         0.00684932\n",
       "%adv                                                           0.0136986\n",
       "%noun                                                         0.00684932\n",
       "avg_word_length                                                  4.42308\n",
       "Name: 1, dtype: object"
      ]
     },
     "execution_count": 43,
     "metadata": {},
     "output_type": "execute_result"
    }
   ],
   "source": [
    "df_1[df_1['propaganda']=='propaganda'].loc[1]"
   ]
  },
  {
   "cell_type": "code",
   "execution_count": 44,
   "metadata": {},
   "outputs": [
    {
     "data": {
      "text/plain": [
       "Unnamed: 0                                                             3\n",
       "article_id                                                     701225819\n",
       "sentence_char_start                                                  382\n",
       "sentence_char_end                                                    525\n",
       "propaganda                                                non-propaganda\n",
       "propaganda_type                                                      NaN\n",
       "text                   Last month, once again, Zakkout chose to showc...\n",
       "prop_start_char                                                      NaN\n",
       "prop_end_char                                                        NaN\n",
       "prop_txt_snippet                                                     NaN\n",
       "sent_#                                                                 4\n",
       "sentiment_score                                                        0\n",
       "abs_sent_score                                                         0\n",
       "punct_count                                                            5\n",
       "word_count                                                            22\n",
       "%adj                                                           0.0211268\n",
       "%verb                                                          0.0211268\n",
       "%adv                                                           0.0140845\n",
       "%noun                                                          0.0352113\n",
       "avg_word_length                                                  5.04545\n",
       "Name: 3, dtype: object"
      ]
     },
     "execution_count": 44,
     "metadata": {},
     "output_type": "execute_result"
    }
   ],
   "source": [
    "df_1[df_1['propaganda']=='non-propaganda'].loc[3]"
   ]
  },
  {
   "cell_type": "code",
   "execution_count": 46,
   "metadata": {},
   "outputs": [
    {
     "name": "stdout",
     "output_type": "stream",
     "text": [
      "<class 'pandas.core.frame.DataFrame'>\n",
      "Int64Index: 15220 entries, 0 to 15240\n",
      "Data columns (total 20 columns):\n",
      "Unnamed: 0             15220 non-null int64\n",
      "article_id             15220 non-null int64\n",
      "sentence_char_start    15220 non-null int64\n",
      "sentence_char_end      15220 non-null int64\n",
      "propaganda             15220 non-null object\n",
      "propaganda_type        3840 non-null object\n",
      "text                   15220 non-null object\n",
      "prop_start_char        3840 non-null float64\n",
      "prop_end_char          3840 non-null float64\n",
      "prop_txt_snippet       3840 non-null object\n",
      "sent_#                 15220 non-null int64\n",
      "sentiment_score        15220 non-null float64\n",
      "abs_sent_score         15220 non-null float64\n",
      "punct_count            15220 non-null int64\n",
      "word_count             15220 non-null int64\n",
      "%adj                   15220 non-null float64\n",
      "%verb                  15220 non-null float64\n",
      "%adv                   15220 non-null float64\n",
      "%noun                  15220 non-null float64\n",
      "avg_word_length        15172 non-null float64\n",
      "dtypes: float64(9), int64(7), object(4)\n",
      "memory usage: 2.4+ MB\n"
     ]
    }
   ],
   "source": [
    "df_1.info()"
   ]
  },
  {
   "cell_type": "code",
   "execution_count": 47,
   "metadata": {},
   "outputs": [],
   "source": [
    "df_2 = df_1.drop(['Unnamed: 0','sentence_char_start','sentence_char_end',\n",
    "                  'prop_start_char','prop_end_char'], axis=1)"
   ]
  },
  {
   "cell_type": "code",
   "execution_count": 48,
   "metadata": {},
   "outputs": [
    {
     "name": "stdout",
     "output_type": "stream",
     "text": [
      "<class 'pandas.core.frame.DataFrame'>\n",
      "Int64Index: 15220 entries, 0 to 15240\n",
      "Data columns (total 15 columns):\n",
      "article_id          15220 non-null int64\n",
      "propaganda          15220 non-null object\n",
      "propaganda_type     3840 non-null object\n",
      "text                15220 non-null object\n",
      "prop_txt_snippet    3840 non-null object\n",
      "sent_#              15220 non-null int64\n",
      "sentiment_score     15220 non-null float64\n",
      "abs_sent_score      15220 non-null float64\n",
      "punct_count         15220 non-null int64\n",
      "word_count          15220 non-null int64\n",
      "%adj                15220 non-null float64\n",
      "%verb               15220 non-null float64\n",
      "%adv                15220 non-null float64\n",
      "%noun               15220 non-null float64\n",
      "avg_word_length     15172 non-null float64\n",
      "dtypes: float64(7), int64(4), object(4)\n",
      "memory usage: 1.9+ MB\n"
     ]
    }
   ],
   "source": [
    "df_2.info()"
   ]
  },
  {
   "cell_type": "code",
   "execution_count": 49,
   "metadata": {},
   "outputs": [],
   "source": [
    "df_2.to_csv('sentence_features.csv',index=False)"
   ]
  },
  {
   "cell_type": "code",
   "execution_count": null,
   "metadata": {},
   "outputs": [],
   "source": []
  },
  {
   "cell_type": "code",
   "execution_count": null,
   "metadata": {},
   "outputs": [],
   "source": []
  }
 ],
 "metadata": {
  "kernelspec": {
   "display_name": "Python 3",
   "language": "python",
   "name": "python3"
  },
  "language_info": {
   "codemirror_mode": {
    "name": "ipython",
    "version": 3
   },
   "file_extension": ".py",
   "mimetype": "text/x-python",
   "name": "python",
   "nbconvert_exporter": "python",
   "pygments_lexer": "ipython3",
   "version": "3.7.3"
  }
 },
 "nbformat": 4,
 "nbformat_minor": 2
}
